{
 "cells": [
  {
   "cell_type": "code",
   "execution_count": 9,
   "metadata": {},
   "outputs": [
    {
     "name": "stdout",
     "output_type": "stream",
     "text": [
      "🔢 TensorFlow Version: 2.10.1\n",
      "🔢 NumPy Version: 1.26.4\n",
      "\n",
      "✅ Physical GPUs: [PhysicalDevice(name='/physical_device:GPU:0', device_type='GPU')]\n",
      "🧱 Logical GPUs: [LogicalDevice(name='/device:GPU:0', device_type='GPU')]\n",
      "\n",
      "📊 GPU Device Details:\n",
      "📍 Name: /device:GPU:0\n",
      "💾 Memory Limit: 1.61 GB\n",
      "📝 Description: device: 0, name: NVIDIA GeForce RTX 3050 Laptop GPU, pci bus id: 0000:01:00.0, compute capability: 8.6\n",
      "--------------------------------------------------\n",
      "⚠️ Could not enable memory growth: Physical devices cannot be modified after being initialized\n"
     ]
    }
   ],
   "source": [
    "import tensorflow as tf\n",
    "import numpy as np\n",
    "from tensorflow.python.client import device_lib\n",
    "\n",
    "# Versions\n",
    "print(\"🔢 TensorFlow Version:\", tf.__version__)\n",
    "print(\"🔢 NumPy Version:\", np.__version__)\n",
    "\n",
    "# GPU Availability\n",
    "physical_gpus = tf.config.list_physical_devices('GPU')\n",
    "logical_gpus = tf.config.list_logical_devices('GPU')\n",
    "print(\"\\n✅ Physical GPUs:\", physical_gpus)\n",
    "print(\"🧱 Logical GPUs:\", logical_gpus)\n",
    "\n",
    "# Device details (GPU only)\n",
    "print(\"\\n📊 GPU Device Details:\")\n",
    "for device in device_lib.list_local_devices():\n",
    "    if device.device_type == 'GPU':\n",
    "        print(f\"📍 Name: {device.name}\")\n",
    "        print(f\"💾 Memory Limit: {device.memory_limit / (1024 ** 3):.2f} GB\")\n",
    "        print(f\"📝 Description: {device.physical_device_desc}\")\n",
    "        print(\"-\" * 50)\n",
    "\n",
    "# Enable memory growth\n",
    "if physical_gpus:\n",
    "    try:\n",
    "        for gpu in physical_gpus:\n",
    "            tf.config.experimental.set_memory_growth(gpu, True)\n",
    "        print(\"✅ Memory growth enabled for all GPUs.\")\n",
    "    except RuntimeError as e:\n",
    "        print(\"⚠️ Could not enable memory growth:\", e)\n",
    "else:\n",
    "    print(\"❌ No physical GPU detected.\")\n"
   ]
  },
  {
   "cell_type": "code",
   "execution_count": 10,
   "metadata": {},
   "outputs": [],
   "source": [
    "import pandas as pd\n",
    "import numpy as np\n",
    "import matplotlib.pyplot as plt\n",
    "import seaborn as sns\n",
    "%matplotlib inline"
   ]
  },
  {
   "cell_type": "code",
   "execution_count": 11,
   "metadata": {},
   "outputs": [
    {
     "name": "stderr",
     "output_type": "stream",
     "text": [
      "C:\\Users\\arpit\\AppData\\Local\\Temp\\ipykernel_13764\\1157033699.py:8: FutureWarning: YF.download() has changed argument auto_adjust default to True\n",
      "  yf.download(stock, start=start, end=end).to_csv(stock + \".csv\")\n",
      "[*********************100%***********************]  1 of 1 completed\n"
     ]
    }
   ],
   "source": [
    "import yfinance as yf\n",
    "import datetime\n",
    "\n",
    "stock = \"GOOG\"\n",
    "start = datetime.datetime(2000, 1, 1)\n",
    "end = datetime.datetime.now()\n",
    "\n",
    "yf.download(stock, start=start, end=end).to_csv(stock + \".csv\")"
   ]
  },
  {
   "cell_type": "code",
   "execution_count": 70,
   "metadata": {},
   "outputs": [
    {
     "data": {
      "text/html": [
       "<div>\n",
       "<style scoped>\n",
       "    .dataframe tbody tr th:only-of-type {\n",
       "        vertical-align: middle;\n",
       "    }\n",
       "\n",
       "    .dataframe tbody tr th {\n",
       "        vertical-align: top;\n",
       "    }\n",
       "\n",
       "    .dataframe thead th {\n",
       "        text-align: right;\n",
       "    }\n",
       "</style>\n",
       "<table border=\"1\" class=\"dataframe\">\n",
       "  <thead>\n",
       "    <tr style=\"text-align: right;\">\n",
       "      <th></th>\n",
       "      <th>Price</th>\n",
       "      <th>Close</th>\n",
       "      <th>High</th>\n",
       "      <th>Low</th>\n",
       "      <th>Open</th>\n",
       "      <th>Volume</th>\n",
       "    </tr>\n",
       "  </thead>\n",
       "  <tbody>\n",
       "    <tr>\n",
       "      <th>0</th>\n",
       "      <td>Ticker</td>\n",
       "      <td>GOOG</td>\n",
       "      <td>GOOG</td>\n",
       "      <td>GOOG</td>\n",
       "      <td>GOOG</td>\n",
       "      <td>GOOG</td>\n",
       "    </tr>\n",
       "    <tr>\n",
       "      <th>1</th>\n",
       "      <td>Date</td>\n",
       "      <td>NaN</td>\n",
       "      <td>NaN</td>\n",
       "      <td>NaN</td>\n",
       "      <td>NaN</td>\n",
       "      <td>NaN</td>\n",
       "    </tr>\n",
       "    <tr>\n",
       "      <th>2</th>\n",
       "      <td>2004-08-19</td>\n",
       "      <td>2.484365940093994</td>\n",
       "      <td>2.5764703120685986</td>\n",
       "      <td>2.3759195065357432</td>\n",
       "      <td>2.4759468785637146</td>\n",
       "      <td>897427216</td>\n",
       "    </tr>\n",
       "    <tr>\n",
       "      <th>3</th>\n",
       "      <td>2004-08-20</td>\n",
       "      <td>2.6816985607147217</td>\n",
       "      <td>2.7007631515270396</td>\n",
       "      <td>2.488327040389078</td>\n",
       "      <td>2.500953972188937</td>\n",
       "      <td>458857488</td>\n",
       "    </tr>\n",
       "    <tr>\n",
       "      <th>4</th>\n",
       "      <td>2004-08-23</td>\n",
       "      <td>2.708686113357544</td>\n",
       "      <td>2.8097046474911545</td>\n",
       "      <td>2.7000205627511846</td>\n",
       "      <td>2.7421113618796227</td>\n",
       "      <td>366857939</td>\n",
       "    </tr>\n",
       "  </tbody>\n",
       "</table>\n",
       "</div>"
      ],
      "text/plain": [
       "        Price               Close                High                 Low  \\\n",
       "0      Ticker                GOOG                GOOG                GOOG   \n",
       "1        Date                 NaN                 NaN                 NaN   \n",
       "2  2004-08-19   2.484365940093994  2.5764703120685986  2.3759195065357432   \n",
       "3  2004-08-20  2.6816985607147217  2.7007631515270396   2.488327040389078   \n",
       "4  2004-08-23   2.708686113357544  2.8097046474911545  2.7000205627511846   \n",
       "\n",
       "                 Open     Volume  \n",
       "0                GOOG       GOOG  \n",
       "1                 NaN        NaN  \n",
       "2  2.4759468785637146  897427216  \n",
       "3   2.500953972188937  458857488  \n",
       "4  2.7421113618796227  366857939  "
      ]
     },
     "execution_count": 70,
     "metadata": {},
     "output_type": "execute_result"
    }
   ],
   "source": [
    "df = pd.read_csv(stock + \".csv\")\n",
    "df.head()"
   ]
  },
  {
   "cell_type": "code",
   "execution_count": 71,
   "metadata": {},
   "outputs": [
    {
     "data": {
      "text/plain": [
       "(5245, 6)"
      ]
     },
     "execution_count": 71,
     "metadata": {},
     "output_type": "execute_result"
    }
   ],
   "source": [
    "df.shape"
   ]
  },
  {
   "cell_type": "code",
   "execution_count": 14,
   "metadata": {},
   "outputs": [
    {
     "name": "stdout",
     "output_type": "stream",
     "text": [
      "<class 'pandas.core.frame.DataFrame'>\n",
      "RangeIndex: 5245 entries, 0 to 5244\n",
      "Data columns (total 6 columns):\n",
      " #   Column  Non-Null Count  Dtype \n",
      "---  ------  --------------  ----- \n",
      " 0   Price   5245 non-null   object\n",
      " 1   Close   5244 non-null   object\n",
      " 2   High    5244 non-null   object\n",
      " 3   Low     5244 non-null   object\n",
      " 4   Open    5244 non-null   object\n",
      " 5   Volume  5244 non-null   object\n",
      "dtypes: object(6)\n",
      "memory usage: 246.0+ KB\n"
     ]
    }
   ],
   "source": [
    "df.info()"
   ]
  },
  {
   "cell_type": "code",
   "execution_count": 72,
   "metadata": {},
   "outputs": [
    {
     "data": {
      "text/plain": [
       "Price     0\n",
       "Close     1\n",
       "High      1\n",
       "Low       1\n",
       "Open      1\n",
       "Volume    1\n",
       "dtype: int64"
      ]
     },
     "execution_count": 72,
     "metadata": {},
     "output_type": "execute_result"
    }
   ],
   "source": [
    "df.isnull().sum()"
   ]
  },
  {
   "cell_type": "code",
   "execution_count": 73,
   "metadata": {},
   "outputs": [],
   "source": [
    "df.dropna(inplace=True)"
   ]
  },
  {
   "cell_type": "code",
   "execution_count": 17,
   "metadata": {},
   "outputs": [
    {
     "data": {
      "text/plain": [
       "Index(['Price', 'Close', 'High', 'Low', 'Open', 'Volume'], dtype='object')"
      ]
     },
     "execution_count": 17,
     "metadata": {},
     "output_type": "execute_result"
    }
   ],
   "source": [
    "df.columns"
   ]
  },
  {
   "cell_type": "code",
   "execution_count": 18,
   "metadata": {},
   "outputs": [
    {
     "data": {
      "text/html": [
       "<div>\n",
       "<style scoped>\n",
       "    .dataframe tbody tr th:only-of-type {\n",
       "        vertical-align: middle;\n",
       "    }\n",
       "\n",
       "    .dataframe tbody tr th {\n",
       "        vertical-align: top;\n",
       "    }\n",
       "\n",
       "    .dataframe thead th {\n",
       "        text-align: right;\n",
       "    }\n",
       "</style>\n",
       "<table border=\"1\" class=\"dataframe\">\n",
       "  <thead>\n",
       "    <tr style=\"text-align: right;\">\n",
       "      <th></th>\n",
       "      <th>Price</th>\n",
       "      <th>Close</th>\n",
       "      <th>High</th>\n",
       "      <th>Low</th>\n",
       "      <th>Open</th>\n",
       "      <th>Volume</th>\n",
       "    </tr>\n",
       "  </thead>\n",
       "  <tbody>\n",
       "    <tr>\n",
       "      <th>0</th>\n",
       "      <td>Ticker</td>\n",
       "      <td>GOOG</td>\n",
       "      <td>GOOG</td>\n",
       "      <td>GOOG</td>\n",
       "      <td>GOOG</td>\n",
       "      <td>GOOG</td>\n",
       "    </tr>\n",
       "  </tbody>\n",
       "</table>\n",
       "</div>"
      ],
      "text/plain": [
       "    Price Close  High   Low  Open Volume\n",
       "0  Ticker  GOOG  GOOG  GOOG  GOOG   GOOG"
      ]
     },
     "execution_count": 18,
     "metadata": {},
     "output_type": "execute_result"
    }
   ],
   "source": [
    "df.iloc[0:1,]"
   ]
  },
  {
   "cell_type": "code",
   "execution_count": 74,
   "metadata": {},
   "outputs": [
    {
     "data": {
      "text/html": [
       "<div>\n",
       "<style scoped>\n",
       "    .dataframe tbody tr th:only-of-type {\n",
       "        vertical-align: middle;\n",
       "    }\n",
       "\n",
       "    .dataframe tbody tr th {\n",
       "        vertical-align: top;\n",
       "    }\n",
       "\n",
       "    .dataframe thead th {\n",
       "        text-align: right;\n",
       "    }\n",
       "</style>\n",
       "<table border=\"1\" class=\"dataframe\">\n",
       "  <thead>\n",
       "    <tr style=\"text-align: right;\">\n",
       "      <th></th>\n",
       "      <th>Price</th>\n",
       "      <th>Close</th>\n",
       "      <th>High</th>\n",
       "      <th>Low</th>\n",
       "      <th>Open</th>\n",
       "      <th>Volume</th>\n",
       "    </tr>\n",
       "  </thead>\n",
       "  <tbody>\n",
       "    <tr>\n",
       "      <th>2</th>\n",
       "      <td>2004-08-19</td>\n",
       "      <td>2.484365940093994</td>\n",
       "      <td>2.5764703120685986</td>\n",
       "      <td>2.3759195065357432</td>\n",
       "      <td>2.4759468785637146</td>\n",
       "      <td>897427216</td>\n",
       "    </tr>\n",
       "    <tr>\n",
       "      <th>3</th>\n",
       "      <td>2004-08-20</td>\n",
       "      <td>2.6816985607147217</td>\n",
       "      <td>2.7007631515270396</td>\n",
       "      <td>2.488327040389078</td>\n",
       "      <td>2.500953972188937</td>\n",
       "      <td>458857488</td>\n",
       "    </tr>\n",
       "    <tr>\n",
       "      <th>4</th>\n",
       "      <td>2004-08-23</td>\n",
       "      <td>2.708686113357544</td>\n",
       "      <td>2.8097046474911545</td>\n",
       "      <td>2.7000205627511846</td>\n",
       "      <td>2.7421113618796227</td>\n",
       "      <td>366857939</td>\n",
       "    </tr>\n",
       "    <tr>\n",
       "      <th>5</th>\n",
       "      <td>2004-08-24</td>\n",
       "      <td>2.5965256690979004</td>\n",
       "      <td>2.7631563190761623</td>\n",
       "      <td>2.564338086520178</td>\n",
       "      <td>2.7542433305673386</td>\n",
       "      <td>306396159</td>\n",
       "    </tr>\n",
       "    <tr>\n",
       "      <th>6</th>\n",
       "      <td>2004-08-25</td>\n",
       "      <td>2.6245033740997314</td>\n",
       "      <td>2.6740230033000816</td>\n",
       "      <td>2.572013301877542</td>\n",
       "      <td>2.598753451327233</td>\n",
       "      <td>184645512</td>\n",
       "    </tr>\n",
       "  </tbody>\n",
       "</table>\n",
       "</div>"
      ],
      "text/plain": [
       "        Price               Close                High                 Low  \\\n",
       "2  2004-08-19   2.484365940093994  2.5764703120685986  2.3759195065357432   \n",
       "3  2004-08-20  2.6816985607147217  2.7007631515270396   2.488327040389078   \n",
       "4  2004-08-23   2.708686113357544  2.8097046474911545  2.7000205627511846   \n",
       "5  2004-08-24  2.5965256690979004  2.7631563190761623   2.564338086520178   \n",
       "6  2004-08-25  2.6245033740997314  2.6740230033000816   2.572013301877542   \n",
       "\n",
       "                 Open     Volume  \n",
       "2  2.4759468785637146  897427216  \n",
       "3   2.500953972188937  458857488  \n",
       "4  2.7421113618796227  366857939  \n",
       "5  2.7542433305673386  306396159  \n",
       "6   2.598753451327233  184645512  "
      ]
     },
     "execution_count": 74,
     "metadata": {},
     "output_type": "execute_result"
    }
   ],
   "source": [
    "df.drop(0, axis=0, inplace=True)\n",
    "df.head()"
   ]
  },
  {
   "cell_type": "code",
   "execution_count": 20,
   "metadata": {},
   "outputs": [
    {
     "name": "stdout",
     "output_type": "stream",
     "text": [
      "<class 'pandas.core.frame.DataFrame'>\n",
      "Index: 5243 entries, 2 to 5244\n",
      "Data columns (total 6 columns):\n",
      " #   Column  Non-Null Count  Dtype \n",
      "---  ------  --------------  ----- \n",
      " 0   Price   5243 non-null   object\n",
      " 1   Close   5243 non-null   object\n",
      " 2   High    5243 non-null   object\n",
      " 3   Low     5243 non-null   object\n",
      " 4   Open    5243 non-null   object\n",
      " 5   Volume  5243 non-null   object\n",
      "dtypes: object(6)\n",
      "memory usage: 286.7+ KB\n"
     ]
    }
   ],
   "source": [
    "df.info()"
   ]
  },
  {
   "cell_type": "code",
   "execution_count": 75,
   "metadata": {},
   "outputs": [],
   "source": [
    "df['Date'] = df['Price'].astype('datetime64[ns]')"
   ]
  },
  {
   "cell_type": "code",
   "execution_count": 22,
   "metadata": {},
   "outputs": [
    {
     "data": {
      "text/html": [
       "<div>\n",
       "<style scoped>\n",
       "    .dataframe tbody tr th:only-of-type {\n",
       "        vertical-align: middle;\n",
       "    }\n",
       "\n",
       "    .dataframe tbody tr th {\n",
       "        vertical-align: top;\n",
       "    }\n",
       "\n",
       "    .dataframe thead th {\n",
       "        text-align: right;\n",
       "    }\n",
       "</style>\n",
       "<table border=\"1\" class=\"dataframe\">\n",
       "  <thead>\n",
       "    <tr style=\"text-align: right;\">\n",
       "      <th></th>\n",
       "      <th>Price</th>\n",
       "      <th>Close</th>\n",
       "      <th>High</th>\n",
       "      <th>Low</th>\n",
       "      <th>Open</th>\n",
       "      <th>Volume</th>\n",
       "      <th>Date</th>\n",
       "    </tr>\n",
       "  </thead>\n",
       "  <tbody>\n",
       "    <tr>\n",
       "      <th>2</th>\n",
       "      <td>2004-08-19</td>\n",
       "      <td>2.484365940093994</td>\n",
       "      <td>2.5764703120685986</td>\n",
       "      <td>2.3759195065357432</td>\n",
       "      <td>2.4759468785637146</td>\n",
       "      <td>897427216</td>\n",
       "      <td>2004-08-19</td>\n",
       "    </tr>\n",
       "    <tr>\n",
       "      <th>3</th>\n",
       "      <td>2004-08-20</td>\n",
       "      <td>2.6816985607147217</td>\n",
       "      <td>2.7007631515270396</td>\n",
       "      <td>2.488327040389078</td>\n",
       "      <td>2.500953972188937</td>\n",
       "      <td>458857488</td>\n",
       "      <td>2004-08-20</td>\n",
       "    </tr>\n",
       "    <tr>\n",
       "      <th>4</th>\n",
       "      <td>2004-08-23</td>\n",
       "      <td>2.708686113357544</td>\n",
       "      <td>2.8097046474911545</td>\n",
       "      <td>2.7000205627511846</td>\n",
       "      <td>2.7421113618796227</td>\n",
       "      <td>366857939</td>\n",
       "      <td>2004-08-23</td>\n",
       "    </tr>\n",
       "    <tr>\n",
       "      <th>5</th>\n",
       "      <td>2004-08-24</td>\n",
       "      <td>2.5965256690979004</td>\n",
       "      <td>2.7631563190761623</td>\n",
       "      <td>2.564338086520178</td>\n",
       "      <td>2.7542433305673386</td>\n",
       "      <td>306396159</td>\n",
       "      <td>2004-08-24</td>\n",
       "    </tr>\n",
       "    <tr>\n",
       "      <th>6</th>\n",
       "      <td>2004-08-25</td>\n",
       "      <td>2.6245033740997314</td>\n",
       "      <td>2.6740230033000816</td>\n",
       "      <td>2.572013301877542</td>\n",
       "      <td>2.598753451327233</td>\n",
       "      <td>184645512</td>\n",
       "      <td>2004-08-25</td>\n",
       "    </tr>\n",
       "  </tbody>\n",
       "</table>\n",
       "</div>"
      ],
      "text/plain": [
       "        Price               Close                High                 Low  \\\n",
       "2  2004-08-19   2.484365940093994  2.5764703120685986  2.3759195065357432   \n",
       "3  2004-08-20  2.6816985607147217  2.7007631515270396   2.488327040389078   \n",
       "4  2004-08-23   2.708686113357544  2.8097046474911545  2.7000205627511846   \n",
       "5  2004-08-24  2.5965256690979004  2.7631563190761623   2.564338086520178   \n",
       "6  2004-08-25  2.6245033740997314  2.6740230033000816   2.572013301877542   \n",
       "\n",
       "                 Open     Volume       Date  \n",
       "2  2.4759468785637146  897427216 2004-08-19  \n",
       "3   2.500953972188937  458857488 2004-08-20  \n",
       "4  2.7421113618796227  366857939 2004-08-23  \n",
       "5  2.7542433305673386  306396159 2004-08-24  \n",
       "6   2.598753451327233  184645512 2004-08-25  "
      ]
     },
     "execution_count": 22,
     "metadata": {},
     "output_type": "execute_result"
    }
   ],
   "source": [
    "df.head()"
   ]
  },
  {
   "cell_type": "code",
   "execution_count": 23,
   "metadata": {},
   "outputs": [
    {
     "name": "stdout",
     "output_type": "stream",
     "text": [
      "<class 'pandas.core.frame.DataFrame'>\n",
      "Index: 5243 entries, 2 to 5244\n",
      "Data columns (total 7 columns):\n",
      " #   Column  Non-Null Count  Dtype         \n",
      "---  ------  --------------  -----         \n",
      " 0   Price   5243 non-null   object        \n",
      " 1   Close   5243 non-null   object        \n",
      " 2   High    5243 non-null   object        \n",
      " 3   Low     5243 non-null   object        \n",
      " 4   Open    5243 non-null   object        \n",
      " 5   Volume  5243 non-null   object        \n",
      " 6   Date    5243 non-null   datetime64[ns]\n",
      "dtypes: datetime64[ns](1), object(6)\n",
      "memory usage: 327.7+ KB\n"
     ]
    }
   ],
   "source": [
    "df.info()"
   ]
  },
  {
   "cell_type": "code",
   "execution_count": 76,
   "metadata": {},
   "outputs": [],
   "source": [
    "df.drop('Price', axis=1, inplace=True)"
   ]
  },
  {
   "cell_type": "code",
   "execution_count": 25,
   "metadata": {},
   "outputs": [
    {
     "data": {
      "text/html": [
       "<div>\n",
       "<style scoped>\n",
       "    .dataframe tbody tr th:only-of-type {\n",
       "        vertical-align: middle;\n",
       "    }\n",
       "\n",
       "    .dataframe tbody tr th {\n",
       "        vertical-align: top;\n",
       "    }\n",
       "\n",
       "    .dataframe thead th {\n",
       "        text-align: right;\n",
       "    }\n",
       "</style>\n",
       "<table border=\"1\" class=\"dataframe\">\n",
       "  <thead>\n",
       "    <tr style=\"text-align: right;\">\n",
       "      <th></th>\n",
       "      <th>Close</th>\n",
       "      <th>High</th>\n",
       "      <th>Low</th>\n",
       "      <th>Open</th>\n",
       "      <th>Volume</th>\n",
       "      <th>Date</th>\n",
       "    </tr>\n",
       "  </thead>\n",
       "  <tbody>\n",
       "    <tr>\n",
       "      <th>2</th>\n",
       "      <td>2.484365940093994</td>\n",
       "      <td>2.5764703120685986</td>\n",
       "      <td>2.3759195065357432</td>\n",
       "      <td>2.4759468785637146</td>\n",
       "      <td>897427216</td>\n",
       "      <td>2004-08-19</td>\n",
       "    </tr>\n",
       "    <tr>\n",
       "      <th>3</th>\n",
       "      <td>2.6816985607147217</td>\n",
       "      <td>2.7007631515270396</td>\n",
       "      <td>2.488327040389078</td>\n",
       "      <td>2.500953972188937</td>\n",
       "      <td>458857488</td>\n",
       "      <td>2004-08-20</td>\n",
       "    </tr>\n",
       "    <tr>\n",
       "      <th>4</th>\n",
       "      <td>2.708686113357544</td>\n",
       "      <td>2.8097046474911545</td>\n",
       "      <td>2.7000205627511846</td>\n",
       "      <td>2.7421113618796227</td>\n",
       "      <td>366857939</td>\n",
       "      <td>2004-08-23</td>\n",
       "    </tr>\n",
       "    <tr>\n",
       "      <th>5</th>\n",
       "      <td>2.5965256690979004</td>\n",
       "      <td>2.7631563190761623</td>\n",
       "      <td>2.564338086520178</td>\n",
       "      <td>2.7542433305673386</td>\n",
       "      <td>306396159</td>\n",
       "      <td>2004-08-24</td>\n",
       "    </tr>\n",
       "    <tr>\n",
       "      <th>6</th>\n",
       "      <td>2.6245033740997314</td>\n",
       "      <td>2.6740230033000816</td>\n",
       "      <td>2.572013301877542</td>\n",
       "      <td>2.598753451327233</td>\n",
       "      <td>184645512</td>\n",
       "      <td>2004-08-25</td>\n",
       "    </tr>\n",
       "  </tbody>\n",
       "</table>\n",
       "</div>"
      ],
      "text/plain": [
       "                Close                High                 Low  \\\n",
       "2   2.484365940093994  2.5764703120685986  2.3759195065357432   \n",
       "3  2.6816985607147217  2.7007631515270396   2.488327040389078   \n",
       "4   2.708686113357544  2.8097046474911545  2.7000205627511846   \n",
       "5  2.5965256690979004  2.7631563190761623   2.564338086520178   \n",
       "6  2.6245033740997314  2.6740230033000816   2.572013301877542   \n",
       "\n",
       "                 Open     Volume       Date  \n",
       "2  2.4759468785637146  897427216 2004-08-19  \n",
       "3   2.500953972188937  458857488 2004-08-20  \n",
       "4  2.7421113618796227  366857939 2004-08-23  \n",
       "5  2.7542433305673386  306396159 2004-08-24  \n",
       "6   2.598753451327233  184645512 2004-08-25  "
      ]
     },
     "execution_count": 25,
     "metadata": {},
     "output_type": "execute_result"
    }
   ],
   "source": [
    "df.head()"
   ]
  },
  {
   "cell_type": "code",
   "execution_count": 77,
   "metadata": {},
   "outputs": [],
   "source": [
    "df[['Close', 'Open', 'High', 'Low', 'Volume']] = df[['Close', 'Open', 'High', 'Low', 'Volume']].astype('float')"
   ]
  },
  {
   "cell_type": "code",
   "execution_count": 27,
   "metadata": {},
   "outputs": [
    {
     "data": {
      "text/html": [
       "<div>\n",
       "<style scoped>\n",
       "    .dataframe tbody tr th:only-of-type {\n",
       "        vertical-align: middle;\n",
       "    }\n",
       "\n",
       "    .dataframe tbody tr th {\n",
       "        vertical-align: top;\n",
       "    }\n",
       "\n",
       "    .dataframe thead th {\n",
       "        text-align: right;\n",
       "    }\n",
       "</style>\n",
       "<table border=\"1\" class=\"dataframe\">\n",
       "  <thead>\n",
       "    <tr style=\"text-align: right;\">\n",
       "      <th></th>\n",
       "      <th>Close</th>\n",
       "      <th>High</th>\n",
       "      <th>Low</th>\n",
       "      <th>Open</th>\n",
       "      <th>Volume</th>\n",
       "      <th>Date</th>\n",
       "    </tr>\n",
       "  </thead>\n",
       "  <tbody>\n",
       "    <tr>\n",
       "      <th>2</th>\n",
       "      <td>2.484366</td>\n",
       "      <td>2.576470</td>\n",
       "      <td>2.375920</td>\n",
       "      <td>2.475947</td>\n",
       "      <td>897427216.0</td>\n",
       "      <td>2004-08-19</td>\n",
       "    </tr>\n",
       "    <tr>\n",
       "      <th>3</th>\n",
       "      <td>2.681699</td>\n",
       "      <td>2.700763</td>\n",
       "      <td>2.488327</td>\n",
       "      <td>2.500954</td>\n",
       "      <td>458857488.0</td>\n",
       "      <td>2004-08-20</td>\n",
       "    </tr>\n",
       "    <tr>\n",
       "      <th>4</th>\n",
       "      <td>2.708686</td>\n",
       "      <td>2.809705</td>\n",
       "      <td>2.700021</td>\n",
       "      <td>2.742111</td>\n",
       "      <td>366857939.0</td>\n",
       "      <td>2004-08-23</td>\n",
       "    </tr>\n",
       "    <tr>\n",
       "      <th>5</th>\n",
       "      <td>2.596526</td>\n",
       "      <td>2.763156</td>\n",
       "      <td>2.564338</td>\n",
       "      <td>2.754243</td>\n",
       "      <td>306396159.0</td>\n",
       "      <td>2004-08-24</td>\n",
       "    </tr>\n",
       "    <tr>\n",
       "      <th>6</th>\n",
       "      <td>2.624503</td>\n",
       "      <td>2.674023</td>\n",
       "      <td>2.572013</td>\n",
       "      <td>2.598753</td>\n",
       "      <td>184645512.0</td>\n",
       "      <td>2004-08-25</td>\n",
       "    </tr>\n",
       "  </tbody>\n",
       "</table>\n",
       "</div>"
      ],
      "text/plain": [
       "      Close      High       Low      Open       Volume       Date\n",
       "2  2.484366  2.576470  2.375920  2.475947  897427216.0 2004-08-19\n",
       "3  2.681699  2.700763  2.488327  2.500954  458857488.0 2004-08-20\n",
       "4  2.708686  2.809705  2.700021  2.742111  366857939.0 2004-08-23\n",
       "5  2.596526  2.763156  2.564338  2.754243  306396159.0 2004-08-24\n",
       "6  2.624503  2.674023  2.572013  2.598753  184645512.0 2004-08-25"
      ]
     },
     "execution_count": 27,
     "metadata": {},
     "output_type": "execute_result"
    }
   ],
   "source": [
    "df.head()"
   ]
  },
  {
   "cell_type": "code",
   "execution_count": 28,
   "metadata": {},
   "outputs": [
    {
     "name": "stdout",
     "output_type": "stream",
     "text": [
      "<class 'pandas.core.frame.DataFrame'>\n",
      "Index: 5243 entries, 2 to 5244\n",
      "Data columns (total 6 columns):\n",
      " #   Column  Non-Null Count  Dtype         \n",
      "---  ------  --------------  -----         \n",
      " 0   Close   5243 non-null   float64       \n",
      " 1   High    5243 non-null   float64       \n",
      " 2   Low     5243 non-null   float64       \n",
      " 3   Open    5243 non-null   float64       \n",
      " 4   Volume  5243 non-null   float64       \n",
      " 5   Date    5243 non-null   datetime64[ns]\n",
      "dtypes: datetime64[ns](1), float64(5)\n",
      "memory usage: 286.7 KB\n"
     ]
    }
   ],
   "source": [
    "df.info()"
   ]
  },
  {
   "cell_type": "code",
   "execution_count": 78,
   "metadata": {},
   "outputs": [],
   "source": [
    "df['Date'] = pd.to_datetime(df['Date'])\n",
    "df.set_index('Date', inplace=True)"
   ]
  },
  {
   "cell_type": "code",
   "execution_count": 79,
   "metadata": {},
   "outputs": [
    {
     "data": {
      "text/html": [
       "<div>\n",
       "<style scoped>\n",
       "    .dataframe tbody tr th:only-of-type {\n",
       "        vertical-align: middle;\n",
       "    }\n",
       "\n",
       "    .dataframe tbody tr th {\n",
       "        vertical-align: top;\n",
       "    }\n",
       "\n",
       "    .dataframe thead th {\n",
       "        text-align: right;\n",
       "    }\n",
       "</style>\n",
       "<table border=\"1\" class=\"dataframe\">\n",
       "  <thead>\n",
       "    <tr style=\"text-align: right;\">\n",
       "      <th></th>\n",
       "      <th>Close</th>\n",
       "      <th>High</th>\n",
       "      <th>Low</th>\n",
       "      <th>Open</th>\n",
       "      <th>Volume</th>\n",
       "    </tr>\n",
       "    <tr>\n",
       "      <th>Date</th>\n",
       "      <th></th>\n",
       "      <th></th>\n",
       "      <th></th>\n",
       "      <th></th>\n",
       "      <th></th>\n",
       "    </tr>\n",
       "  </thead>\n",
       "  <tbody>\n",
       "    <tr>\n",
       "      <th>2004-08-19</th>\n",
       "      <td>2.484366</td>\n",
       "      <td>2.576470</td>\n",
       "      <td>2.375920</td>\n",
       "      <td>2.475947</td>\n",
       "      <td>897427216.0</td>\n",
       "    </tr>\n",
       "    <tr>\n",
       "      <th>2004-08-20</th>\n",
       "      <td>2.681699</td>\n",
       "      <td>2.700763</td>\n",
       "      <td>2.488327</td>\n",
       "      <td>2.500954</td>\n",
       "      <td>458857488.0</td>\n",
       "    </tr>\n",
       "    <tr>\n",
       "      <th>2004-08-23</th>\n",
       "      <td>2.708686</td>\n",
       "      <td>2.809705</td>\n",
       "      <td>2.700021</td>\n",
       "      <td>2.742111</td>\n",
       "      <td>366857939.0</td>\n",
       "    </tr>\n",
       "    <tr>\n",
       "      <th>2004-08-24</th>\n",
       "      <td>2.596526</td>\n",
       "      <td>2.763156</td>\n",
       "      <td>2.564338</td>\n",
       "      <td>2.754243</td>\n",
       "      <td>306396159.0</td>\n",
       "    </tr>\n",
       "    <tr>\n",
       "      <th>2004-08-25</th>\n",
       "      <td>2.624503</td>\n",
       "      <td>2.674023</td>\n",
       "      <td>2.572013</td>\n",
       "      <td>2.598753</td>\n",
       "      <td>184645512.0</td>\n",
       "    </tr>\n",
       "  </tbody>\n",
       "</table>\n",
       "</div>"
      ],
      "text/plain": [
       "               Close      High       Low      Open       Volume\n",
       "Date                                                           \n",
       "2004-08-19  2.484366  2.576470  2.375920  2.475947  897427216.0\n",
       "2004-08-20  2.681699  2.700763  2.488327  2.500954  458857488.0\n",
       "2004-08-23  2.708686  2.809705  2.700021  2.742111  366857939.0\n",
       "2004-08-24  2.596526  2.763156  2.564338  2.754243  306396159.0\n",
       "2004-08-25  2.624503  2.674023  2.572013  2.598753  184645512.0"
      ]
     },
     "execution_count": 79,
     "metadata": {},
     "output_type": "execute_result"
    }
   ],
   "source": [
    "df.head()"
   ]
  },
  {
   "cell_type": "code",
   "execution_count": 31,
   "metadata": {},
   "outputs": [
    {
     "data": {
      "text/html": [
       "<div>\n",
       "<style scoped>\n",
       "    .dataframe tbody tr th:only-of-type {\n",
       "        vertical-align: middle;\n",
       "    }\n",
       "\n",
       "    .dataframe tbody tr th {\n",
       "        vertical-align: top;\n",
       "    }\n",
       "\n",
       "    .dataframe thead th {\n",
       "        text-align: right;\n",
       "    }\n",
       "</style>\n",
       "<table border=\"1\" class=\"dataframe\">\n",
       "  <thead>\n",
       "    <tr style=\"text-align: right;\">\n",
       "      <th></th>\n",
       "      <th>Close</th>\n",
       "      <th>High</th>\n",
       "      <th>Low</th>\n",
       "      <th>Open</th>\n",
       "      <th>Volume</th>\n",
       "    </tr>\n",
       "  </thead>\n",
       "  <tbody>\n",
       "    <tr>\n",
       "      <th>count</th>\n",
       "      <td>5243.000000</td>\n",
       "      <td>5243.000000</td>\n",
       "      <td>5243.000000</td>\n",
       "      <td>5243.000000</td>\n",
       "      <td>5.243000e+03</td>\n",
       "    </tr>\n",
       "    <tr>\n",
       "      <th>mean</th>\n",
       "      <td>50.417242</td>\n",
       "      <td>50.940547</td>\n",
       "      <td>49.883294</td>\n",
       "      <td>50.397953</td>\n",
       "      <td>1.117199e+08</td>\n",
       "    </tr>\n",
       "    <tr>\n",
       "      <th>std</th>\n",
       "      <td>49.466957</td>\n",
       "      <td>50.008537</td>\n",
       "      <td>48.931144</td>\n",
       "      <td>49.442470</td>\n",
       "      <td>1.478299e+08</td>\n",
       "    </tr>\n",
       "    <tr>\n",
       "      <th>min</th>\n",
       "      <td>2.476194</td>\n",
       "      <td>2.519029</td>\n",
       "      <td>2.375920</td>\n",
       "      <td>2.455892</td>\n",
       "      <td>1.584340e+05</td>\n",
       "    </tr>\n",
       "    <tr>\n",
       "      <th>25%</th>\n",
       "      <td>13.133290</td>\n",
       "      <td>13.288284</td>\n",
       "      <td>13.008006</td>\n",
       "      <td>13.153840</td>\n",
       "      <td>2.627397e+07</td>\n",
       "    </tr>\n",
       "    <tr>\n",
       "      <th>50%</th>\n",
       "      <td>28.105318</td>\n",
       "      <td>28.385178</td>\n",
       "      <td>27.866894</td>\n",
       "      <td>28.154885</td>\n",
       "      <td>5.003400e+07</td>\n",
       "    </tr>\n",
       "    <tr>\n",
       "      <th>75%</th>\n",
       "      <td>69.276958</td>\n",
       "      <td>70.191277</td>\n",
       "      <td>68.496644</td>\n",
       "      <td>69.160900</td>\n",
       "      <td>1.358132e+08</td>\n",
       "    </tr>\n",
       "    <tr>\n",
       "      <th>max</th>\n",
       "      <td>207.224548</td>\n",
       "      <td>208.212225</td>\n",
       "      <td>203.782599</td>\n",
       "      <td>204.022044</td>\n",
       "      <td>1.650833e+09</td>\n",
       "    </tr>\n",
       "  </tbody>\n",
       "</table>\n",
       "</div>"
      ],
      "text/plain": [
       "             Close         High          Low         Open        Volume\n",
       "count  5243.000000  5243.000000  5243.000000  5243.000000  5.243000e+03\n",
       "mean     50.417242    50.940547    49.883294    50.397953  1.117199e+08\n",
       "std      49.466957    50.008537    48.931144    49.442470  1.478299e+08\n",
       "min       2.476194     2.519029     2.375920     2.455892  1.584340e+05\n",
       "25%      13.133290    13.288284    13.008006    13.153840  2.627397e+07\n",
       "50%      28.105318    28.385178    27.866894    28.154885  5.003400e+07\n",
       "75%      69.276958    70.191277    68.496644    69.160900  1.358132e+08\n",
       "max     207.224548   208.212225   203.782599   204.022044  1.650833e+09"
      ]
     },
     "execution_count": 31,
     "metadata": {},
     "output_type": "execute_result"
    }
   ],
   "source": [
    "df.describe()"
   ]
  },
  {
   "cell_type": "code",
   "execution_count": null,
   "metadata": {},
   "outputs": [],
   "source": []
  },
  {
   "cell_type": "code",
   "execution_count": 32,
   "metadata": {},
   "outputs": [],
   "source": [
    "###import plotly.io as pio\n",
    "###pio.renderers.default = 'browser'"
   ]
  },
  {
   "cell_type": "code",
   "execution_count": 39,
   "metadata": {},
   "outputs": [],
   "source": [
    "import plotly.io as pio\n",
    "pio.renderers.default = 'vscode'  # or 'jupyterlab'\n"
   ]
  },
  {
   "cell_type": "code",
   "execution_count": 41,
   "metadata": {},
   "outputs": [],
   "source": [
    "import plotly.graph_objects as go\n",
    "\n",
    "fig = go.Figure(data=[go.Candlestick(x=df.index,\n",
    "                                     open=df['Open'],\n",
    "                                     high=df['High'],\n",
    "                                     low=df['Low'],\n",
    "                                     close=df['Close'],\n",
    "                                     increasing_line_color='green',\n",
    "                                     decreasing_line_color='red',\n",
    "                                     name=stock\n",
    "                                    )])\n",
    "\n",
    "fig.update_layout(title=f'{stock} Stock Price',\n",
    "                  xaxis_title='Date',\n",
    "                  yaxis_title='Price (USD)',\n",
    "                  xaxis_rangeslider_visible=False)\n",
    "\n",
    "fig.write_html(\"candlestick_chart.html\")"
   ]
  },
  {
   "cell_type": "code",
   "execution_count": null,
   "metadata": {},
   "outputs": [],
   "source": []
  },
  {
   "cell_type": "code",
   "execution_count": 42,
   "metadata": {},
   "outputs": [
    {
     "data": {
      "image/png": "[encoded data removed]",
      "text/plain": [
       "<Figure size 1400x700 with 1 Axes>"
      ]
     },
     "metadata": {},
     "output_type": "display_data"
    }
   ],
   "source": [
    "plt.figure(figsize=(14, 7))\n",
    "plt.plot(df['Open'], label='Open Price', color='blue')\n",
    "plt.title(f'{stock} Stock Price (Open) Over Time')\n",
    "plt.xlabel('Date')\n",
    "plt.ylabel('Price (USD)')\n",
    "plt.legend()\n",
    "plt.grid()\n",
    "plt.show()"
   ]
  },
  {
   "cell_type": "code",
   "execution_count": 43,
   "metadata": {},
   "outputs": [
    {
     "data": {
      "image/png": "[encoded data removed]",
      "text/plain": [
       "<Figure size 1400x700 with 1 Axes>"
      ]
     },
     "metadata": {},
     "output_type": "display_data"
    }
   ],
   "source": [
    "plt.figure(figsize=(14, 7))\n",
    "plt.plot(df['Close'], label='Close Price', color='green')\n",
    "plt.title(f'{stock} Stock Price (Close) Over Time')\n",
    "plt.xlabel('Date')\n",
    "plt.ylabel('Price (USD)')\n",
    "plt.legend()\n",
    "plt.grid()\n",
    "plt.show()"
   ]
  },
  {
   "cell_type": "code",
   "execution_count": 44,
   "metadata": {},
   "outputs": [
    {
     "data": {
      "image/png": "[encoded data removed]",
      "text/plain": [
       "<Figure size 1400x700 with 1 Axes>"
      ]
     },
     "metadata": {},
     "output_type": "display_data"
    }
   ],
   "source": [
    "plt.figure(figsize=(14, 7))\n",
    "plt.plot(df['Volume'], label='Volume', color='red')\n",
    "plt.title(f'{stock} Stock Volume Over Time')\n",
    "plt.xlabel('Date')\n",
    "plt.ylabel('Price (USD)')\n",
    "plt.legend()\n",
    "plt.grid()\n",
    "plt.show()"
   ]
  },
  {
   "cell_type": "code",
   "execution_count": null,
   "metadata": {},
   "outputs": [],
   "source": []
  },
  {
   "cell_type": "code",
   "execution_count": null,
   "metadata": {},
   "outputs": [],
   "source": [
    "## Exponential Moving Average (EMA)\n",
    "\n",
    "ema100 = df.Close.ewm(100, adjust=False).mean()\n",
    "ema200 = df.Close.ewm(200, adjust=False).mean()"
   ]
  },
  {
   "cell_type": "code",
   "execution_count": 46,
   "metadata": {},
   "outputs": [
    {
     "data": {
      "image/png": "[encoded data removed]",
      "text/plain": [
       "<Figure size 1400x700 with 1 Axes>"
      ]
     },
     "metadata": {},
     "output_type": "display_data"
    }
   ],
   "source": [
    "plt.figure(figsize=(14, 7))\n",
    "plt.plot(df.Close, label='Close Price', color='blue', linewidth=1)\n",
    "plt.plot(ema100, label='EMA 100', color='red', linewidth=1)\n",
    "plt.plot(ema200, label='EMA 200', color='green', linewidth=1)\n",
    "plt.title(f'{stock} Stock Price with EMA')\n",
    "plt.xlabel('Date')\n",
    "plt.ylabel('Price (USD)')\n",
    "plt.legend()\n",
    "plt.grid()\n",
    "plt.show()"
   ]
  },
  {
   "cell_type": "code",
   "execution_count": null,
   "metadata": {},
   "outputs": [],
   "source": []
  },
  {
   "cell_type": "code",
   "execution_count": 80,
   "metadata": {},
   "outputs": [],
   "source": [
    "# Training & Testing\n",
    "\n",
    "data_training = pd.DataFrame(df['Close'][0:int(len(df)*0.70)])\n",
    "data_testing = pd.DataFrame(df['Close'][int(len(df)*0.70): int(len(df))])"
   ]
  },
  {
   "cell_type": "code",
   "execution_count": 82,
   "metadata": {},
   "outputs": [
    {
     "data": {
      "text/plain": [
       "((3670, 1), (1573, 1))"
      ]
     },
     "execution_count": 82,
     "metadata": {},
     "output_type": "execute_result"
    }
   ],
   "source": [
    "data_training.shape, data_testing.shape"
   ]
  },
  {
   "cell_type": "code",
   "execution_count": 83,
   "metadata": {},
   "outputs": [
    {
     "data": {
      "text/html": [
       "<div>\n",
       "<style scoped>\n",
       "    .dataframe tbody tr th:only-of-type {\n",
       "        vertical-align: middle;\n",
       "    }\n",
       "\n",
       "    .dataframe tbody tr th {\n",
       "        vertical-align: top;\n",
       "    }\n",
       "\n",
       "    .dataframe thead th {\n",
       "        text-align: right;\n",
       "    }\n",
       "</style>\n",
       "<table border=\"1\" class=\"dataframe\">\n",
       "  <thead>\n",
       "    <tr style=\"text-align: right;\">\n",
       "      <th></th>\n",
       "      <th>Close</th>\n",
       "    </tr>\n",
       "    <tr>\n",
       "      <th>Date</th>\n",
       "      <th></th>\n",
       "    </tr>\n",
       "  </thead>\n",
       "  <tbody>\n",
       "    <tr>\n",
       "      <th>2004-08-19</th>\n",
       "      <td>2.484366</td>\n",
       "    </tr>\n",
       "    <tr>\n",
       "      <th>2004-08-20</th>\n",
       "      <td>2.681699</td>\n",
       "    </tr>\n",
       "    <tr>\n",
       "      <th>2004-08-23</th>\n",
       "      <td>2.708686</td>\n",
       "    </tr>\n",
       "    <tr>\n",
       "      <th>2004-08-24</th>\n",
       "      <td>2.596526</td>\n",
       "    </tr>\n",
       "    <tr>\n",
       "      <th>2004-08-25</th>\n",
       "      <td>2.624503</td>\n",
       "    </tr>\n",
       "  </tbody>\n",
       "</table>\n",
       "</div>"
      ],
      "text/plain": [
       "               Close\n",
       "Date                \n",
       "2004-08-19  2.484366\n",
       "2004-08-20  2.681699\n",
       "2004-08-23  2.708686\n",
       "2004-08-24  2.596526\n",
       "2004-08-25  2.624503"
      ]
     },
     "execution_count": 83,
     "metadata": {},
     "output_type": "execute_result"
    }
   ],
   "source": [
    "data_training.head()"
   ]
  },
  {
   "cell_type": "code",
   "execution_count": null,
   "metadata": {},
   "outputs": [],
   "source": []
  },
  {
   "cell_type": "code",
   "execution_count": 84,
   "metadata": {},
   "outputs": [],
   "source": [
    "from sklearn.preprocessing import MinMaxScaler\n",
    "\n",
    "scaler = MinMaxScaler(feature_range=(0, 1))"
   ]
  },
  {
   "cell_type": "code",
   "execution_count": 85,
   "metadata": {},
   "outputs": [
    {
     "name": "stdout",
     "output_type": "stream",
     "text": [
      "(3670, 1)\n"
     ]
    }
   ],
   "source": [
    "train_data_array = scaler.fit_transform(data_training)\n",
    "print(train_data_array.shape)"
   ]
  },
  {
   "cell_type": "code",
   "execution_count": 87,
   "metadata": {},
   "outputs": [],
   "source": [
    "x_train = []\n",
    "y_train = []\n",
    "\n",
    "for i in range(100, train_data_array.shape[0]):\n",
    "    x_train.append(train_data_array[i-100:i])\n",
    "    y_train.append(train_data_array[i, 0])\n",
    "\n",
    "x_train, y_train  = np.array(x_train), np.array(y_train)"
   ]
  },
  {
   "cell_type": "code",
   "execution_count": 88,
   "metadata": {},
   "outputs": [
    {
     "data": {
      "text/plain": [
       "((3570, 100, 1), (3570,))"
      ]
     },
     "execution_count": 88,
     "metadata": {},
     "output_type": "execute_result"
    }
   ],
   "source": [
    "x_train.shape, y_train.shape"
   ]
  },
  {
   "cell_type": "code",
   "execution_count": 89,
   "metadata": {},
   "outputs": [
    {
     "data": {
      "text/plain": [
       "array([[[1.34924775e-04],\n",
       "        [3.39308941e-03],\n",
       "        [3.83868168e-03],\n",
       "        ...,\n",
       "        [3.61955400e-02],\n",
       "        [3.83622174e-02],\n",
       "        [3.88568589e-02]],\n",
       "\n",
       "       [[3.39308941e-03],\n",
       "        [3.83868168e-03],\n",
       "        [1.98679732e-03],\n",
       "        ...,\n",
       "        [3.83622174e-02],\n",
       "        [3.88568589e-02],\n",
       "        [3.82354767e-02]],\n",
       "\n",
       "       [[3.83868168e-03],\n",
       "        [1.98679732e-03],\n",
       "        [2.44873802e-03],\n",
       "        ...,\n",
       "        [3.88568589e-02],\n",
       "        [3.82354767e-02],\n",
       "        [3.89876779e-02]],\n",
       "\n",
       "       ...,\n",
       "\n",
       "       [[8.51983346e-01],\n",
       "        [8.58950951e-01],\n",
       "        [8.62808001e-01],\n",
       "        ...,\n",
       "        [9.38342885e-01],\n",
       "        [9.38441330e-01],\n",
       "        [9.32064583e-01]],\n",
       "\n",
       "       [[8.58950951e-01],\n",
       "        [8.62808001e-01],\n",
       "        [8.64884288e-01],\n",
       "        ...,\n",
       "        [9.38441330e-01],\n",
       "        [9.32064583e-01],\n",
       "        [9.31170076e-01]],\n",
       "\n",
       "       [[8.62808001e-01],\n",
       "        [8.64884288e-01],\n",
       "        [8.21405089e-01],\n",
       "        ...,\n",
       "        [9.32064583e-01],\n",
       "        [9.31170076e-01],\n",
       "        [9.31006001e-01]]])"
      ]
     },
     "execution_count": 89,
     "metadata": {},
     "output_type": "execute_result"
    }
   ],
   "source": [
    "x_train"
   ]
  },
  {
   "cell_type": "code",
   "execution_count": null,
   "metadata": {},
   "outputs": [],
   "source": []
  },
  {
   "cell_type": "code",
   "execution_count": 90,
   "metadata": {},
   "outputs": [],
   "source": [
    "from keras.layers import Dense, LSTM, Dropout\n",
    "from keras.models import Sequential"
   ]
  },
  {
   "cell_type": "code",
   "execution_count": 91,
   "metadata": {},
   "outputs": [
    {
     "name": "stdout",
     "output_type": "stream",
     "text": [
      "WARNING:tensorflow:Layer lstm_4 will not use cuDNN kernels since it doesn't meet the criteria. It will use a generic GPU kernel as fallback when running on GPU.\n",
      "WARNING:tensorflow:Layer lstm_5 will not use cuDNN kernels since it doesn't meet the criteria. It will use a generic GPU kernel as fallback when running on GPU.\n",
      "WARNING:tensorflow:Layer lstm_6 will not use cuDNN kernels since it doesn't meet the criteria. It will use a generic GPU kernel as fallback when running on GPU.\n",
      "WARNING:tensorflow:Layer lstm_7 will not use cuDNN kernels since it doesn't meet the criteria. It will use a generic GPU kernel as fallback when running on GPU.\n"
     ]
    }
   ],
   "source": [
    "model = Sequential()\n",
    "\n",
    "model.add(LSTM(units=50, activation='relu', return_sequences=True, input_shape=(x_train.shape[1], 1)))\n",
    "model.add(Dropout(0.2))\n",
    "\n",
    "model.add(LSTM(units=60, activation='relu', return_sequences=True))\n",
    "model.add(Dropout(0.3))\n",
    "\n",
    "model.add(LSTM(units=80, activation='relu', return_sequences=True))\n",
    "model.add(Dropout(0.4))\n",
    "\n",
    "model.add(LSTM(units=120, activation='relu'))\n",
    "model.add(Dropout(0.5))\n",
    "\n",
    "model.add(Dense(units=1))"
   ]
  },
  {
   "cell_type": "code",
   "execution_count": 92,
   "metadata": {},
   "outputs": [
    {
     "name": "stdout",
     "output_type": "stream",
     "text": [
      "Model: \"sequential_2\"\n",
      "_________________________________________________________________\n",
      " Layer (type)                Output Shape              Param #   \n",
      "=================================================================\n",
      " lstm_4 (LSTM)               (None, 100, 50)           10400     \n",
      "                                                                 \n",
      " dropout_4 (Dropout)         (None, 100, 50)           0         \n",
      "                                                                 \n",
      " lstm_5 (LSTM)               (None, 100, 60)           26640     \n",
      "                                                                 \n",
      " dropout_5 (Dropout)         (None, 100, 60)           0         \n",
      "                                                                 \n",
      " lstm_6 (LSTM)               (None, 100, 80)           45120     \n",
      "                                                                 \n",
      " dropout_6 (Dropout)         (None, 100, 80)           0         \n",
      "                                                                 \n",
      " lstm_7 (LSTM)               (None, 120)               96480     \n",
      "                                                                 \n",
      " dropout_7 (Dropout)         (None, 120)               0         \n",
      "                                                                 \n",
      " dense_1 (Dense)             (None, 1)                 121       \n",
      "                                                                 \n",
      "=================================================================\n",
      "Total params: 178,761\n",
      "Trainable params: 178,761\n",
      "Non-trainable params: 0\n",
      "_________________________________________________________________\n"
     ]
    }
   ],
   "source": [
    "model.summary()"
   ]
  },
  {
   "cell_type": "code",
   "execution_count": 93,
   "metadata": {},
   "outputs": [],
   "source": [
    "model.compile(optimizer='adam', loss='mean_squared_error')"
   ]
  },
  {
   "cell_type": "code",
   "execution_count": 126,
   "metadata": {},
   "outputs": [
    {
     "name": "stdout",
     "output_type": "stream",
     "text": [
      "Is the model training on GPU? True\n"
     ]
    }
   ],
   "source": [
    "import tensorflow as tf\n",
    "print(f\"Is the model training on GPU? {tf.config.list_physical_devices('GPU') != []}\")"
   ]
  },
  {
   "cell_type": "code",
   "execution_count": 101,
   "metadata": {},
   "outputs": [
    {
     "name": "stdout",
     "output_type": "stream",
     "text": [
      "Epoch 1/50\n",
      "14/14 [==============================] - 11s 799ms/step - loss: 0.0051\n",
      "Epoch 2/50\n",
      "14/14 [==============================] - 11s 779ms/step - loss: 0.0047\n",
      "Epoch 3/50\n",
      "14/14 [==============================] - 11s 819ms/step - loss: 0.0043\n",
      "Epoch 4/50\n",
      "14/14 [==============================] - 14s 990ms/step - loss: 0.0043\n",
      "Epoch 5/50\n",
      "14/14 [==============================] - 15s 1s/step - loss: 0.0041\n",
      "Epoch 6/50\n",
      "14/14 [==============================] - 12s 827ms/step - loss: 0.0041\n",
      "Epoch 7/50\n",
      "14/14 [==============================] - 12s 850ms/step - loss: 0.0042\n",
      "Epoch 8/50\n",
      "14/14 [==============================] - 12s 845ms/step - loss: 0.0043\n",
      "Epoch 9/50\n",
      "14/14 [==============================] - 12s 842ms/step - loss: 0.0042\n",
      "Epoch 10/50\n",
      "14/14 [==============================] - 15s 1s/step - loss: 0.0042\n",
      "Epoch 11/50\n",
      "14/14 [==============================] - 12s 883ms/step - loss: 0.0038\n",
      "Epoch 12/50\n",
      "14/14 [==============================] - 12s 852ms/step - loss: 0.0038\n",
      "Epoch 13/50\n",
      "14/14 [==============================] - 15s 1s/step - loss: 0.0037\n",
      "Epoch 14/50\n",
      "14/14 [==============================] - 19s 1s/step - loss: 0.0039\n",
      "Epoch 15/50\n",
      "14/14 [==============================] - 11s 810ms/step - loss: 0.0036\n",
      "Epoch 16/50\n",
      "14/14 [==============================] - 14s 1s/step - loss: 0.0035\n",
      "Epoch 17/50\n",
      "14/14 [==============================] - 17s 1s/step - loss: 0.0036\n",
      "Epoch 18/50\n",
      "14/14 [==============================] - 17s 1s/step - loss: 0.0033\n",
      "Epoch 19/50\n",
      "14/14 [==============================] - 17s 1s/step - loss: 0.0036\n",
      "Epoch 20/50\n",
      "14/14 [==============================] - 17s 1s/step - loss: 0.0035\n",
      "Epoch 21/50\n",
      "14/14 [==============================] - 17s 1s/step - loss: 0.0037\n",
      "Epoch 22/50\n",
      "14/14 [==============================] - 17s 1s/step - loss: 0.0034\n",
      "Epoch 23/50\n",
      "14/14 [==============================] - 17s 1s/step - loss: 0.0035\n",
      "Epoch 24/50\n",
      "14/14 [==============================] - 18s 1s/step - loss: 0.0033\n",
      "Epoch 25/50\n",
      "14/14 [==============================] - 15s 1s/step - loss: 0.0033\n",
      "Epoch 26/50\n",
      "14/14 [==============================] - 17s 1s/step - loss: 0.0034\n",
      "Epoch 27/50\n",
      "14/14 [==============================] - 18s 1s/step - loss: 0.0032\n",
      "Epoch 28/50\n",
      "14/14 [==============================] - 17s 1s/step - loss: 0.0031\n",
      "Epoch 29/50\n",
      "14/14 [==============================] - 12s 863ms/step - loss: 0.0034\n",
      "Epoch 30/50\n",
      "14/14 [==============================] - 14s 1s/step - loss: 0.0033\n",
      "Epoch 31/50\n",
      "14/14 [==============================] - 12s 874ms/step - loss: 0.0030\n",
      "Epoch 32/50\n",
      "14/14 [==============================] - 17s 1s/step - loss: 0.0030\n",
      "Epoch 33/50\n",
      "14/14 [==============================] - 12s 835ms/step - loss: 0.0031\n",
      "Epoch 34/50\n",
      "14/14 [==============================] - 11s 810ms/step - loss: 0.0030\n",
      "Epoch 35/50\n",
      "14/14 [==============================] - 11s 804ms/step - loss: 0.0031\n",
      "Epoch 36/50\n",
      "14/14 [==============================] - 12s 817ms/step - loss: 0.0031\n",
      "Epoch 37/50\n",
      "14/14 [==============================] - 15s 1s/step - loss: 0.0031\n",
      "Epoch 38/50\n",
      "14/14 [==============================] - 12s 845ms/step - loss: 0.0030\n",
      "Epoch 39/50\n",
      "14/14 [==============================] - 12s 843ms/step - loss: 0.0029\n",
      "Epoch 40/50\n",
      "14/14 [==============================] - 11s 801ms/step - loss: 0.0031\n",
      "Epoch 41/50\n",
      "14/14 [==============================] - 11s 792ms/step - loss: 0.0032\n",
      "Epoch 42/50\n",
      "14/14 [==============================] - 11s 786ms/step - loss: 0.0031\n",
      "Epoch 43/50\n",
      "14/14 [==============================] - 11s 798ms/step - loss: 0.0028\n",
      "Epoch 44/50\n",
      "14/14 [==============================] - 12s 860ms/step - loss: 0.0029\n",
      "Epoch 45/50\n",
      "14/14 [==============================] - 11s 781ms/step - loss: 0.0027\n",
      "Epoch 46/50\n",
      "14/14 [==============================] - 11s 787ms/step - loss: 0.0027\n",
      "Epoch 47/50\n",
      "14/14 [==============================] - 11s 790ms/step - loss: 0.0026\n",
      "Epoch 48/50\n",
      "14/14 [==============================] - 11s 783ms/step - loss: 0.0027\n",
      "Epoch 49/50\n",
      "14/14 [==============================] - 11s 784ms/step - loss: 0.0026\n",
      "Epoch 50/50\n",
      "14/14 [==============================] - 12s 871ms/step - loss: 0.0026\n"
     ]
    }
   ],
   "source": [
    "histort = model.fit(x_train, y_train, epochs=50, batch_size=256)"
   ]
  },
  {
   "cell_type": "code",
   "execution_count": null,
   "metadata": {},
   "outputs": [],
   "source": []
  },
  {
   "cell_type": "code",
   "execution_count": 103,
   "metadata": {},
   "outputs": [],
   "source": [
    "past_100_days = data_training.tail(100)"
   ]
  },
  {
   "cell_type": "code",
   "execution_count": 106,
   "metadata": {},
   "outputs": [],
   "source": [
    "final_df = pd.concat([past_100_days, data_testing], ignore_index=True)"
   ]
  },
  {
   "cell_type": "code",
   "execution_count": 107,
   "metadata": {},
   "outputs": [
    {
     "data": {
      "text/html": [
       "<div>\n",
       "<style scoped>\n",
       "    .dataframe tbody tr th:only-of-type {\n",
       "        vertical-align: middle;\n",
       "    }\n",
       "\n",
       "    .dataframe tbody tr th {\n",
       "        vertical-align: top;\n",
       "    }\n",
       "\n",
       "    .dataframe thead th {\n",
       "        text-align: right;\n",
       "    }\n",
       "</style>\n",
       "<table border=\"1\" class=\"dataframe\">\n",
       "  <thead>\n",
       "    <tr style=\"text-align: right;\">\n",
       "      <th></th>\n",
       "      <th>Close</th>\n",
       "    </tr>\n",
       "  </thead>\n",
       "  <tbody>\n",
       "    <tr>\n",
       "      <th>0</th>\n",
       "      <td>54.858410</td>\n",
       "    </tr>\n",
       "    <tr>\n",
       "      <th>1</th>\n",
       "      <td>52.225067</td>\n",
       "    </tr>\n",
       "    <tr>\n",
       "      <th>2</th>\n",
       "      <td>54.454811</td>\n",
       "    </tr>\n",
       "    <tr>\n",
       "      <th>3</th>\n",
       "      <td>53.256931</td>\n",
       "    </tr>\n",
       "    <tr>\n",
       "      <th>4</th>\n",
       "      <td>50.702621</td>\n",
       "    </tr>\n",
       "  </tbody>\n",
       "</table>\n",
       "</div>"
      ],
      "text/plain": [
       "       Close\n",
       "0  54.858410\n",
       "1  52.225067\n",
       "2  54.454811\n",
       "3  53.256931\n",
       "4  50.702621"
      ]
     },
     "execution_count": 107,
     "metadata": {},
     "output_type": "execute_result"
    }
   ],
   "source": [
    "final_df.head()"
   ]
  },
  {
   "cell_type": "code",
   "execution_count": 111,
   "metadata": {},
   "outputs": [],
   "source": [
    "input_data = scaler.fit_transform(final_df)"
   ]
  },
  {
   "cell_type": "code",
   "execution_count": 112,
   "metadata": {},
   "outputs": [],
   "source": [
    "x_test = []\n",
    "y_test = []\n",
    "\n",
    "for i in range(100, input_data.shape[0]):\n",
    "    x_test.append(input_data[i-100:i])\n",
    "    y_test.append(input_data[i, 0])\n",
    "\n",
    "x_test, y_test  = np.array(x_test), np.array(y_test)"
   ]
  },
  {
   "cell_type": "code",
   "execution_count": 113,
   "metadata": {},
   "outputs": [
    {
     "data": {
      "text/plain": [
       "(1573, 100, 1)"
      ]
     },
     "execution_count": 113,
     "metadata": {},
     "output_type": "execute_result"
    }
   ],
   "source": [
    "x_test.shape"
   ]
  },
  {
   "cell_type": "code",
   "execution_count": 114,
   "metadata": {},
   "outputs": [
    {
     "name": "stdout",
     "output_type": "stream",
     "text": [
      "50/50 [==============================] - 5s 101ms/step\n"
     ]
    }
   ],
   "source": [
    "y_predicted = model.predict(x_test)"
   ]
  },
  {
   "cell_type": "code",
   "execution_count": 115,
   "metadata": {},
   "outputs": [
    {
     "data": {
      "text/plain": [
       "(1573, 1)"
      ]
     },
     "execution_count": 115,
     "metadata": {},
     "output_type": "execute_result"
    }
   ],
   "source": [
    "y_predicted.shape"
   ]
  },
  {
   "cell_type": "code",
   "execution_count": 116,
   "metadata": {},
   "outputs": [
    {
     "data": {
      "text/plain": [
       "array([0.00630112])"
      ]
     },
     "execution_count": 116,
     "metadata": {},
     "output_type": "execute_result"
    }
   ],
   "source": [
    "scaler.scale_"
   ]
  },
  {
   "cell_type": "code",
   "execution_count": 121,
   "metadata": {},
   "outputs": [],
   "source": [
    "scaler_factor = 1 / 0.00330112\n",
    "y_predicted = y_predicted * scaler_factor\n",
    "y_test = y_test * scaler_factor"
   ]
  },
  {
   "cell_type": "code",
   "execution_count": 122,
   "metadata": {},
   "outputs": [
    {
     "data": {
      "image/png": "[encoded data removed]",
      "text/plain": [
       "<Figure size 1200x600 with 1 Axes>"
      ]
     },
     "metadata": {},
     "output_type": "display_data"
    }
   ],
   "source": [
    "plt.figure(figsize=(12, 6))\n",
    "plt.plot(y_test, label = 'Original Price', linewidth = 1)\n",
    "plt.plot(y_predicted, label = 'Predicted Price', linewidth = 1)\n",
    "plt.legend()\n",
    "plt.show()"
   ]
  },
  {
   "cell_type": "code",
   "execution_count": null,
   "metadata": {},
   "outputs": [],
   "source": [
    "model.save('model.keras')"
   ]
  },
  {
   "cell_type": "code",
   "execution_count": null,
   "metadata": {},
   "outputs": [],
   "source": []
  }
 ],
 "metadata": {
  "kernelspec": {
   "display_name": "tensor",
   "language": "python",
   "name": "python3"
  },
  "language_info": {
   "codemirror_mode": {
    "name": "ipython",
    "version": 3
   },
   "file_extension": ".py",
   "mimetype": "text/x-python",
   "name": "python",
   "nbconvert_exporter": "python",
   "pygments_lexer": "ipython3",
   "version": "3.10.16"
  }
 },
 "nbformat": 4,
 "nbformat_minor": 2
}
